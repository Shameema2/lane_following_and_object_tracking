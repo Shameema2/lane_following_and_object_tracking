{
 "cells": [
  {
   "cell_type": "code",
   "execution_count": 1,
   "metadata": {},
   "outputs": [],
   "source": [
    "import cv2\n",
    "import numpy as np"
   ]
  },
  {
   "cell_type": "code",
   "execution_count": 2,
   "metadata": {},
   "outputs": [],
   "source": [
    "cascade_face= cv2.CascadeClassifier('D:/face_recog/haarcascade_frontalface_default.xml')\n",
    "cascade_eye= cv2.CascadeClassifier('D:/face_recog/haarcascade_eye.xml')\n",
    "cascade_smile =cv2.CascadeClassifier('D:/face_recog/haarcascade_smile.xml')"
   ]
  },
  {
   "cell_type": "code",
   "execution_count": null,
   "metadata": {},
   "outputs": [],
   "source": []
  },
  {
   "cell_type": "code",
   "execution_count": 3,
   "metadata": {},
   "outputs": [
    {
     "ename": "error",
     "evalue": "OpenCV(4.8.1) D:\\a\\opencv-python\\opencv-python\\opencv\\modules\\imgproc\\src\\color.cpp:182: error: (-215:Assertion failed) !_src.empty() in function 'cv::cvtColor'\n",
     "output_type": "error",
     "traceback": [
      "\u001b[1;31m---------------------------------------------------------------------------\u001b[0m",
      "\u001b[1;31merror\u001b[0m                                     Traceback (most recent call last)",
      "\u001b[1;32md:\\face_recog\\face_rec.ipynb Cell 4\u001b[0m line \u001b[0;36m2\n\u001b[0;32m     <a href='vscode-notebook-cell:/d%3A/face_recog/face_rec.ipynb#W0sZmlsZQ%3D%3D?line=19'>20</a>\u001b[0m \u001b[39mwhile\u001b[39;00m \u001b[39mTrue\u001b[39;00m:\n\u001b[0;32m     <a href='vscode-notebook-cell:/d%3A/face_recog/face_rec.ipynb#W0sZmlsZQ%3D%3D?line=20'>21</a>\u001b[0m     _,originalimg\u001b[39m=\u001b[39m video_capture\u001b[39m.\u001b[39mread()\n\u001b[1;32m---> <a href='vscode-notebook-cell:/d%3A/face_recog/face_rec.ipynb#W0sZmlsZQ%3D%3D?line=21'>22</a>\u001b[0m     gray\u001b[39m=\u001b[39m cv2\u001b[39m.\u001b[39;49mcvtColor(originalimg,cv2\u001b[39m.\u001b[39;49mCOLOR_BGR2GRAY)\n\u001b[0;32m     <a href='vscode-notebook-cell:/d%3A/face_recog/face_rec.ipynb#W0sZmlsZQ%3D%3D?line=22'>23</a>\u001b[0m     canvas\u001b[39m=\u001b[39m detect(gray,originalimg)\n\u001b[0;32m     <a href='vscode-notebook-cell:/d%3A/face_recog/face_rec.ipynb#W0sZmlsZQ%3D%3D?line=23'>24</a>\u001b[0m     cv2\u001b[39m.\u001b[39mimshow(\u001b[39m'\u001b[39m\u001b[39mVideo\u001b[39m\u001b[39m'\u001b[39m,canvas)\n",
      "\u001b[1;31merror\u001b[0m: OpenCV(4.8.1) D:\\a\\opencv-python\\opencv-python\\opencv\\modules\\imgproc\\src\\color.cpp:182: error: (-215:Assertion failed) !_src.empty() in function 'cv::cvtColor'\n"
     ]
    }
   ],
   "source": [
    "\n",
    "\n",
    "# Loading the cascades\n",
    "\n",
    "\n",
    "\n",
    "def detect(gray,originalimg):\n",
    "    faces= cascade_face.detectMultiScale(gray,1.3,5)\n",
    "    for(x,y,w,h) in faces:\n",
    "        cv2.rectangle(originalimg,(x,y),(x+w,y+h),(0,0,255),3)\n",
    "        roi_gray= gray[y:y+h,x:x+w]\n",
    "        roi_color= originalimg[y:y+h,x:x+w]\n",
    "        eyes = cascade_eye.detectMultiScale(roi_gray,1.1,3)\n",
    "        for(ex,ey,ew,eh) in eyes:\n",
    "            cv2.rectangle(roi_color, (ex, ey), (ex+ew, ey+eh), (0, 255, 0), 2)\n",
    "        smiles= cascade_smile.detectMultiScale(roi_gray,1.1,2)\n",
    "        for (sx,sy,sw,sh) in smiles:\n",
    "            cv2.rectangle(roi_color,(sx,sy),(sx+sw,sy+sh),(255,0,0),2)\n",
    "    return originalimg # We return the image with the detector rectangles.\n",
    "# Doing some face recognition with the webcam\n",
    "video_capture = cv2.VideoCapture(0)\n",
    "while True:\n",
    "    _,originalimg= video_capture.read()\n",
    "    gray= cv2.cvtColor(originalimg,cv2.COLOR_BGR2GRAY)\n",
    "    canvas= detect(gray,originalimg)\n",
    "    cv2.imshow('Video',canvas)\n",
    "    if cv2.waitKey(1) & 0xFF == ord('q'): # If we type on the keyboard:\n",
    "        break # We stop the loop.\n",
    "\n",
    "video_capture.release() #Turning the  the webcam off.\n",
    "cv2.destroyAllWindows() # We destroy all the windows inside which the images were displayed."
   ]
  },
  {
   "cell_type": "code",
   "execution_count": null,
   "metadata": {},
   "outputs": [],
   "source": []
  }
 ],
 "metadata": {
  "kernelspec": {
   "display_name": "face",
   "language": "python",
   "name": "python3"
  },
  "language_info": {
   "codemirror_mode": {
    "name": "ipython",
    "version": 3
   },
   "file_extension": ".py",
   "mimetype": "text/x-python",
   "name": "python",
   "nbconvert_exporter": "python",
   "pygments_lexer": "ipython3",
   "version": "3.9.0"
  }
 },
 "nbformat": 4,
 "nbformat_minor": 2
}
