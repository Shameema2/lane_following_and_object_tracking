{
 "cells": [
  {
   "cell_type": "code",
   "execution_count": 2,
   "metadata": {},
   "outputs": [],
   "source": [
    "from imutils.video import VideoStream\n",
    "import argparse\n",
    "import imutils\n",
    "import time\n",
    "import cv2\n",
    "import os"
   ]
  },
  {
   "cell_type": "code",
   "execution_count": 4,
   "metadata": {},
   "outputs": [
    {
     "name": "stdout",
     "output_type": "stream",
     "text": [
      "[INFO] starting video stream...\n",
      "[INFO] 264 face images stored\n",
      "[INFO] cleaning up...\n"
     ]
    }
   ],
   "source": [
    "detector = cv2.CascadeClassifier(model)\n",
    "\n",
    "\n",
    "print(\"[INFO] starting video stream...\")\n",
    "vs = VideoStream(src=0).start()\n",
    "\n",
    "time.sleep(2.0)\n",
    "total = 0\n",
    "\n",
    "\n",
    "while True:\n",
    "\n",
    "\tframe = vs.read()\n",
    "\torig = frame.copy()\n",
    "\tframe = imutils.resize(frame, width=400)\n",
    "\n",
    "\n",
    "\n",
    "\trects = detector.detectMultiScale(\n",
    "\t\tcv2.cvtColor(frame, cv2.COLOR_BGR2GRAY), scaleFactor=1.1, \n",
    "\t\tminNeighbors=5, minSize=(30, 30))\n",
    "\n",
    "\tfor (x, y, w, h) in rects:\n",
    "\t\tcv2.rectangle(frame, (x, y), (x + w, y + h), (0, 255, 0), 2)\n",
    " \n",
    "\tcv2.imshow(\"Frame\", frame)\n",
    "\tkey = cv2.waitKey(1) & 0xFF\n",
    " \n",
    "\n",
    "\tif key == ord(\"k\"):\n",
    "\t\tp = os.path.sep.join([path, \"{}.png\".format(\n",
    "\t\t\tstr(total).zfill(5))])\n",
    "\t\tcv2.imwrite(p, orig)\n",
    "\t\ttotal += 1\n",
    "\n",
    "\t\n",
    "\telif key == ord(\"q\"):\n",
    "\t\tbreak\n",
    "\n",
    "print(\"[INFO] {} face images stored\".format(total))\n",
    "print(\"[INFO] cleaning up...\")\n",
    "cv2.destroyAllWindows()\n",
    "vs.stop()"
   ]
  },
  {
   "cell_type": "code",
   "execution_count": null,
   "metadata": {},
   "outputs": [],
   "source": []
  }
 ],
 "metadata": {
  "kernelspec": {
   "display_name": "face",
   "language": "python",
   "name": "python3"
  },
  "language_info": {
   "codemirror_mode": {
    "name": "ipython",
    "version": 3
   },
   "file_extension": ".py",
   "mimetype": "text/x-python",
   "name": "python",
   "nbconvert_exporter": "python",
   "pygments_lexer": "ipython3",
   "version": "3.9.0"
  },
  "orig_nbformat": 4
 },
 "nbformat": 4,
 "nbformat_minor": 2
}
